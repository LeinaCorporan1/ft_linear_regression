{
 "cells": [
  {
   "cell_type": "code",
   "execution_count": 4,
   "id": "f0055fa0-04f9-4187-93fc-a5ca37c0e9e5",
   "metadata": {},
   "outputs": [],
   "source": [
    "import pandas as pd\n",
    "\n",
    "\n",
    "def load(path: str) -> pd.DataFrame:\n",
    "    \"\"\"\n",
    "    This function loads a CSV file from the given path and returns a pandas DataFrame.\n",
    "    If the file is not in CSV format or is not found, it handles the exceptions accordingly.\n",
    "\n",
    "    Parameters:\n",
    "    path (str): The file path of the CSV file.\n",
    "\n",
    "    Returns:\n",
    "    pd.DataFrame: The DataFrame obtained from the CSV file.\n",
    "    None: If the file is not found.\n",
    "\n",
    "    Raises:\n",
    "    AssertionError: If the file is not in CSV format.\n",
    "    \"\"\"\n",
    "\n",
    "    try:\n",
    "        # Check if the file is in CSV format\n",
    "        if not path.lower().endswith((\"csv\")):\n",
    "            # Raise an error if the file is not in CSV format\n",
    "            raise AssertionError(\"Only csv formats are supported.\")\n",
    "\n",
    "        try:\n",
    "            # Try to load the CSV file into a DataFrame\n",
    "            df = pd.read_csv(path)\n",
    "        except FileNotFoundError:\n",
    "            # Print an error message if the file is not found\n",
    "            print(\"File not found.\")\n",
    "            # Return None if the file is not found\n",
    "            return None\n",
    "\n",
    "        # Print the dimensions of the loaded DataFrame\n",
    "        print(f\"Loading dataset of dimensions {df.shape}\")\n",
    "\n",
    "        # Return the loaded DataFrame\n",
    "        return df\n",
    "\n",
    "    except AssertionError as error:\n",
    "        # Print the details of the AssertionError\n",
    "        print(AssertionError.__name__ + \":\", error)"
   ]
  },
  {
   "cell_type": "code",
   "execution_count": 22,
   "id": "da5cec2a-1f91-4a78-98ee-4a4bf871f89d",
   "metadata": {},
   "outputs": [],
   "source": [
    "def main ():\n",
    "    dataset = load('data.csv')\n",
    "    km = dataset['km']\n",
    "    price = dataset['price']\n",
    "    print (km)\n",
    "    print (price)\n"
   ]
  },
  {
   "cell_type": "code",
   "execution_count": 23,
   "id": "3c4dadee-5fae-44a8-9c9e-0b3457b30592",
   "metadata": {},
   "outputs": [
    {
     "name": "stdout",
     "output_type": "stream",
     "text": [
      "Loading dataset of dimensions (24, 2)\n",
      "0     240000\n",
      "1     139800\n",
      "2     150500\n",
      "3     185530\n",
      "4     176000\n",
      "5     114800\n",
      "6     166800\n",
      "7      89000\n",
      "8     144500\n",
      "9      84000\n",
      "10     82029\n",
      "11     63060\n",
      "12     74000\n",
      "13     97500\n",
      "14     67000\n",
      "15     76025\n",
      "16     48235\n",
      "17     93000\n",
      "18     60949\n",
      "19     65674\n",
      "20     54000\n",
      "21     68500\n",
      "22     22899\n",
      "23     61789\n",
      "Name: km, dtype: int64\n",
      "0     3650\n",
      "1     3800\n",
      "2     4400\n",
      "3     4450\n",
      "4     5250\n",
      "5     5350\n",
      "6     5800\n",
      "7     5990\n",
      "8     5999\n",
      "9     6200\n",
      "10    6390\n",
      "11    6390\n",
      "12    6600\n",
      "13    6800\n",
      "14    6800\n",
      "15    6900\n",
      "16    6900\n",
      "17    6990\n",
      "18    7490\n",
      "19    7555\n",
      "20    7990\n",
      "21    7990\n",
      "22    7990\n",
      "23    8290\n",
      "Name: price, dtype: int64\n"
     ]
    }
   ],
   "source": [
    "if __name__ == \"__main__\":\n",
    "    main()"
   ]
  },
  {
   "cell_type": "code",
   "execution_count": null,
   "id": "29b2a9e8-6677-4e70-b0f1-1509d0bde95e",
   "metadata": {},
   "outputs": [],
   "source": []
  }
 ],
 "metadata": {
  "kernelspec": {
   "display_name": "Python 3 (ipykernel)",
   "language": "python",
   "name": "python3"
  },
  "language_info": {
   "codemirror_mode": {
    "name": "ipython",
    "version": 3
   },
   "file_extension": ".py",
   "mimetype": "text/x-python",
   "name": "python",
   "nbconvert_exporter": "python",
   "pygments_lexer": "ipython3",
   "version": "3.10.12"
  }
 },
 "nbformat": 4,
 "nbformat_minor": 5
}
